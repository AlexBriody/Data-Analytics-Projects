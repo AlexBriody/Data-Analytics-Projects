{
 "cells": [
  {
   "attachments": {},
   "cell_type": "markdown",
   "metadata": {},
   "source": [
    "# Coding Temple's Data Analytics Program\n",
    "---\n",
    "## Intro to API's Assignment\n",
    "---\n",
    "### Problem 1:\n",
    "Check out this Pokemon API https://pokeapi.co/\n",
    "Use the requests package to connect to this API and get and store data for 5 different pokemon.\n",
    "Get the pokemons: name, atleast one ability's name, base_experience, and the URL for its sprite (an image that shows up on screen) for the 'front_shiny', attack base_state, hp base_stat, defense base_stat\n",
    "\n",
    "**BONUS POINTS IF YOU CAN POPULATE THE IMAGE!**"
   ]
  },
  {
   "cell_type": "code",
   "execution_count": 52,
   "metadata": {},
   "outputs": [
    {
     "name": "stdout",
     "output_type": "stream",
     "text": [
      "Pokemon Name: Pikachu\n",
      "Ability Name: static\n",
      "Base Experience: 112\n",
      "Sprite URL: https://raw.githubusercontent.com/PokeAPI/sprites/master/sprites/pokemon/shiny/25.png\n",
      "Attack Base Stat: 55\n",
      "HP Base Stat: 35\n",
      "Defense Base Stat: 50\n",
      "\n",
      "\n",
      "Pokemon Name: Charmander\n",
      "Ability Name: blaze\n",
      "Base Experience: 62\n",
      "Sprite URL: https://raw.githubusercontent.com/PokeAPI/sprites/master/sprites/pokemon/shiny/4.png\n",
      "Attack Base Stat: 52\n",
      "HP Base Stat: 39\n",
      "Defense Base Stat: 60\n",
      "\n",
      "\n",
      "Pokemon Name: Charizard\n",
      "Ability Name: blaze\n",
      "Base Experience: 267\n",
      "Sprite URL: https://raw.githubusercontent.com/PokeAPI/sprites/master/sprites/pokemon/shiny/6.png\n",
      "Attack Base Stat: 84\n",
      "HP Base Stat: 78\n",
      "Defense Base Stat: 109\n",
      "\n",
      "\n",
      "Pokemon Name: Snorlax\n",
      "Ability Name: immunity\n",
      "Base Experience: 189\n",
      "Sprite URL: https://raw.githubusercontent.com/PokeAPI/sprites/master/sprites/pokemon/shiny/143.png\n",
      "Attack Base Stat: 110\n",
      "HP Base Stat: 160\n",
      "Defense Base Stat: 65\n",
      "\n",
      "\n",
      "Pokemon Name: Eevee\n",
      "Ability Name: run-away\n",
      "Base Experience: 65\n",
      "Sprite URL: https://raw.githubusercontent.com/PokeAPI/sprites/master/sprites/pokemon/shiny/133.png\n",
      "Attack Base Stat: 55\n",
      "HP Base Stat: 55\n",
      "Defense Base Stat: 45\n",
      "\n",
      "\n"
     ]
    }
   ],
   "source": [
    "import requests, json\n",
    "\n",
    "\n",
    "def get_pokemon_data (pokemon_name):\n",
    "    \n",
    "    url = f'https://pokeapi.co/api/v2/pokemon/{pokemon_name}'\n",
    "\n",
    "    response = requests.get(url)\n",
    "\n",
    "    if response.status_code == 200:\n",
    "\n",
    "        ability_name = response.json()['abilities'][0]['ability']['name']\n",
    "        base_experience = response.json()['base_experience']\n",
    "        sprite_URL = response.json()['sprites']['front_shiny']\n",
    "        attack_base_stat = response.json()['stats'][1]['base_stat']\n",
    "        hp_base_stat = response.json()['stats'][0]['base_stat']\n",
    "        defense_base_stat = response.json()['stats'][3]['base_stat']\n",
    "\n",
    "        return {\n",
    "            'name': pokemon_name,\n",
    "            'ability_name': ability_name,\n",
    "            'base_experience': base_experience,\n",
    "            'sprite_URL': sprite_URL,\n",
    "            'attack_base_stat': attack_base_stat,\n",
    "            'hp_base_stat': hp_base_stat,\n",
    "            'defense_base_stat': defense_base_stat\n",
    "        }\n",
    "    else:\n",
    "        return \"We had an error loading your data. It is likely the pokemon name you entered does not exist in the API object. Please try again.\"\n",
    "\n",
    "pokemon_names = ['pikachu', 'charmander', 'charizard', 'snorlax', 'eevee']\n",
    "\n",
    "for name in pokemon_names:\n",
    "    pokemon_dict = get_pokemon_data(name)\n",
    "    print(\"Pokemon Name:\", pokemon_dict['name'].capitalize())\n",
    "    print(\"Ability Name:\", pokemon_dict['ability_name'])\n",
    "    print(\"Base Experience:\", pokemon_dict['base_experience'])\n",
    "    print(\"Sprite URL:\", pokemon_dict['sprite_URL'])\n",
    "    print(\"Attack Base Stat:\", pokemon_dict['attack_base_stat'])\n",
    "    print(\"HP Base Stat:\", pokemon_dict['hp_base_stat'])\n",
    "    print(\"Defense Base Stat:\", pokemon_dict['defense_base_stat'])\n",
    "    print(\"\\n\")\n",
    "    \n",
    "\n"
   ]
  },
  {
   "attachments": {},
   "cell_type": "markdown",
   "metadata": {},
   "source": [
    "### Problem 2:\n",
    "\n",
    "I want to build the best Pokemon team I can and I need your help to do so! Using the API, build me a team of 6 pokemon who's base-stats are above 60. Return any additional information you think is needed to help understand why you chose that pokemon for the team!"
   ]
  },
  {
   "cell_type": "code",
   "execution_count": 76,
   "metadata": {},
   "outputs": [
    {
     "name": "stdout",
     "output_type": "stream",
     "text": [
      "My Pokemon team is: ['charizard', 'snorlax', 'garchomp', 'gardevoir', 'mew', 'palkia']\n"
     ]
    }
   ],
   "source": [
    "def get_pokemon_team(pokemon_names):\n",
    "    my_pokemon_team = []\n",
    "\n",
    "    for pokemon_name in pokemon_names:\n",
    "        url = f'https://pokeapi.co/api/v2/pokemon/{pokemon_name}'\n",
    "        response = requests.get(url)\n",
    "\n",
    "        if response.status_code == 200:\n",
    "            data = response.json()\n",
    "            base_experience = data['base_experience']\n",
    "            attack_base_stat = data['stats'][1]['base_stat']\n",
    "            hp_base_stat = data['stats'][0]['base_stat']\n",
    "            defense_base_stat = data['stats'][3]['base_stat']\n",
    "\n",
    "            if ((attack_base_stat + hp_base_stat + defense_base_stat) / 3) > 60 and base_experience > 100:\n",
    "                my_pokemon_team.append(pokemon_name)\n",
    "        \n",
    "        else:\n",
    "            return \"We had an error loading your data. It is likely the pokemon name you entered does not exist in the API object. Please try again.\"\n",
    "\n",
    "    return my_pokemon_team\n",
    "\n",
    "pokemon_names = ['pikachu', 'charmander', 'charizard', 'snorlax', 'eevee', 'garchomp', 'ditto', 'gardevoir', 'piplup', 'mew', 'squirtle', 'bulbasaur', 'palkia' ]\n",
    "\n",
    "print(\"My Pokemon team is:\", get_pokemon_team(pokemon_names))\n"
   ]
  },
  {
   "cell_type": "markdown",
   "metadata": {},
   "source": [
    "Pokemon with higher base experience values can level up faster, and so they can learn new moves and evolve earlier, thus making them more versatile and powerful in battles."
   ]
  },
  {
   "attachments": {},
   "cell_type": "markdown",
   "metadata": {},
   "source": [
    "### Problem 3:\n",
    "\n",
    "Create a function that does the following:\n",
    "* Input: pokemon_name(user_defined) -> str\n",
    "* Output: list object containing a dictionary of values from the response object.\n",
    "* Please include the type, the most current raritey level, at least one held item, and all stats"
   ]
  },
  {
   "cell_type": "code",
   "execution_count": 92,
   "metadata": {},
   "outputs": [
    {
     "name": "stdout",
     "output_type": "stream",
     "text": [
      "Data about the user's chosen Pokemon {'types': 'psychic', 'held_items': [{'item': {'name': 'lum-berry', 'url': 'https://pokeapi.co/api/v2/item/134/'}, 'version_details': [{'rarity': 100, 'version': {'name': 'ruby', 'url': 'https://pokeapi.co/api/v2/version/7/'}}, {'rarity': 100, 'version': {'name': 'sapphire', 'url': 'https://pokeapi.co/api/v2/version/8/'}}, {'rarity': 100, 'version': {'name': 'emerald', 'url': 'https://pokeapi.co/api/v2/version/9/'}}, {'rarity': 100, 'version': {'name': 'diamond', 'url': 'https://pokeapi.co/api/v2/version/12/'}}, {'rarity': 100, 'version': {'name': 'pearl', 'url': 'https://pokeapi.co/api/v2/version/13/'}}, {'rarity': 100, 'version': {'name': 'platinum', 'url': 'https://pokeapi.co/api/v2/version/14/'}}, {'rarity': 100, 'version': {'name': 'heartgold', 'url': 'https://pokeapi.co/api/v2/version/15/'}}, {'rarity': 100, 'version': {'name': 'soulsilver', 'url': 'https://pokeapi.co/api/v2/version/16/'}}, {'rarity': 100, 'version': {'name': 'black', 'url': 'https://pokeapi.co/api/v2/version/17/'}}, {'rarity': 100, 'version': {'name': 'white', 'url': 'https://pokeapi.co/api/v2/version/18/'}}, {'rarity': 100, 'version': {'name': 'black-2', 'url': 'https://pokeapi.co/api/v2/version/21/'}}, {'rarity': 100, 'version': {'name': 'white-2', 'url': 'https://pokeapi.co/api/v2/version/22/'}}, {'rarity': 100, 'version': {'name': 'x', 'url': 'https://pokeapi.co/api/v2/version/23/'}}, {'rarity': 100, 'version': {'name': 'y', 'url': 'https://pokeapi.co/api/v2/version/24/'}}, {'rarity': 100, 'version': {'name': 'omega-ruby', 'url': 'https://pokeapi.co/api/v2/version/25/'}}, {'rarity': 100, 'version': {'name': 'alpha-sapphire', 'url': 'https://pokeapi.co/api/v2/version/26/'}}, {'rarity': 5, 'version': {'name': 'sun', 'url': 'https://pokeapi.co/api/v2/version/27/'}}, {'rarity': 5, 'version': {'name': 'moon', 'url': 'https://pokeapi.co/api/v2/version/28/'}}, {'rarity': 5, 'version': {'name': 'ultra-sun', 'url': 'https://pokeapi.co/api/v2/version/29/'}}, {'rarity': 5, 'version': {'name': 'ultra-moon', 'url': 'https://pokeapi.co/api/v2/version/30/'}}]}], 'attack_base_stat': 100, 'hp_base_stat': 100, 'defense_base_stat': 100, 'stat0': 100, 'stat1': 100, 'stat2': 100, 'stat3': 100, 'stat4': 100, 'stat5': 100}\n"
     ]
    }
   ],
   "source": [
    "import requests, json\n",
    "\n",
    "\n",
    "def get_pokemon_data (pokemon_name):\n",
    "\n",
    "    url = f'https://pokeapi.co/api/v2/pokemon/{pokemon_name}'\n",
    "\n",
    "    response = requests.get(url)\n",
    "\n",
    "    if response.status_code == 200:\n",
    "    \n",
    "        types = response.json()['types'][0]['type']['name']\n",
    "        held_items = response.json()['held_items']\n",
    "        attack_base_stat = response.json()['stats'][1]['base_stat']\n",
    "        hp_base_stat = response.json()['stats'][0]['base_stat']\n",
    "        defense_base_stat = response.json()['stats'][3]['base_stat']\n",
    "        stat0 = response.json()['stats'][0]['base_stat']\n",
    "        stat1 = response.json()['stats'][1]['base_stat']\n",
    "        stat2 = response.json()['stats'][2]['base_stat']\n",
    "        stat3 = response.json()['stats'][3]['base_stat']\n",
    "        stat4 = response.json()['stats'][4]['base_stat']\n",
    "        stat5 = response.json()['stats'][5]['base_stat']\n",
    "\n",
    "        return {\n",
    "            'types': types,\n",
    "            'held_items': held_items,\n",
    "            'attack_base_stat': attack_base_stat,\n",
    "            'hp_base_stat': hp_base_stat,\n",
    "            'defense_base_stat': defense_base_stat,\n",
    "            'stat0': stat0,\n",
    "            'stat1': stat1,\n",
    "            'stat2': stat2,\n",
    "            'stat3': stat3,\n",
    "            'stat4': stat4,\n",
    "            'stat5': stat5\n",
    "        }\n",
    "    else:\n",
    "        return \"We had an error loading your data. It is likely the pokemon name you entered does not exist in the API object. Please try again.\"\n",
    "\n",
    "\n",
    "users_pokemon = input(\"Who is your chosen Pokemon monster?\")\n",
    "print(f\"Data about the user's chosen Pokemon {get_pokemon_data(users_pokemon)}\")\n",
    "    \n",
    "\n"
   ]
  },
  {
   "cell_type": "markdown",
   "metadata": {},
   "source": []
  },
  {
   "cell_type": "markdown",
   "metadata": {},
   "source": []
  }
 ],
 "metadata": {
  "kernelspec": {
   "display_name": "Python 3",
   "language": "python",
   "name": "python3"
  },
  "language_info": {
   "codemirror_mode": {
    "name": "ipython",
    "version": 3
   },
   "file_extension": ".py",
   "mimetype": "text/x-python",
   "name": "python",
   "nbconvert_exporter": "python",
   "pygments_lexer": "ipython3",
   "version": "3.11.3"
  },
  "orig_nbformat": 4,
  "vscode": {
   "interpreter": {
    "hash": "26de051ba29f2982a8de78e945f0abaf191376122a1563185a90213a26c5da77"
   }
  }
 },
 "nbformat": 4,
 "nbformat_minor": 2
}
