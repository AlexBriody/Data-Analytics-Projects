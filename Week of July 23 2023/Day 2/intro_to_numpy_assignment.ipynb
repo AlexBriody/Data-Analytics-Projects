{
  "cells": [
    {
      "attachments": {},
      "cell_type": "markdown",
      "metadata": {
        "id": "ZvNsvUNNlZbi"
      },
      "source": [
        "# Coding Temple's Data Analytics Program  \n",
        "---\n",
        "# Advanced Python - Intro to `numpy`\n",
        "---\n",
        "\n"
      ]
    },
    {
      "attachments": {},
      "cell_type": "markdown",
      "metadata": {
        "id": "xMq6Of2Gt24o"
      },
      "source": [
        "## Part 1: Working with `numpy`\n"
      ]
    },
    {
      "attachments": {},
      "cell_type": "markdown",
      "metadata": {
        "id": "76eJSGb5gwtY"
      },
      "source": [
        "### 1.1 Importing `numpy`\n",
        "\n",
        "We've already used the `numpy` package by importing it and assigning it the standard alias of `np`. Do this again in the following cell - the more you practice typing these lines of code, the easier it will be to remember."
      ]
    },
    {
      "cell_type": "code",
      "execution_count": 22,
      "metadata": {
        "id": "h3r0IvHVuGJb"
      },
      "outputs": [],
      "source": [
        "# Import numpy and assign it the standard alias\n",
        "# YOUR CODE HERE\n",
        "\n",
        "import numpy as np"
      ]
    },
    {
      "attachments": {},
      "cell_type": "markdown",
      "metadata": {},
      "source": [
        "### 1.1 Solution - Run this cell to check your answer in 1.1. Please do not edit the values in this cell!"
      ]
    },
    {
      "cell_type": "code",
      "execution_count": 15,
      "metadata": {},
      "outputs": [],
      "source": [
        "# DO NOT EDIT THIS CELL\n",
        "assert np.__name__ == 'numpy', 'Make sure that you have properly imported numpy and aliased it as np!'"
      ]
    },
    {
      "attachments": {},
      "cell_type": "markdown",
      "metadata": {
        "id": "DvYie7qokbDH"
      },
      "source": [
        "### 1.2 Generate random numbers\n",
        "\n",
        "Create a `(5,3)` `numpy` array of random integer values between 0 and 100.\n",
        "\n",
        "Use the the `random()` method in numpy to generate these integers. Name your new variable `myarray`. You should also print the array to check it's dimensions and values."
      ]
    },
    {
      "cell_type": "code",
      "execution_count": 28,
      "metadata": {
        "colab": {
          "base_uri": "https://localhost:8080/"
        },
        "id": "UNJo_50VktRs",
        "outputId": "201f35e8-cd05-451c-aee4-de9b6e2ad93c"
      },
      "outputs": [
        {
          "name": "stdout",
          "output_type": "stream",
          "text": [
            "[[37 12 72]\n",
            " [ 9 75  5]\n",
            " [79 64 16]\n",
            " [ 1 76 71]\n",
            " [ 6 25 50]]\n"
          ]
        }
      ],
      "source": [
        "# Generate your random numbers\n",
        "np.random.seed(1) #Seed generated for reproducibility\n",
        "\n",
        "#YOUR CODE HERE\n",
        "myarray = np.random.randint(0, 101,(5, 3))\n",
        "\n",
        "# Print out the array\n",
        "print(myarray)"
      ]
    },
    {
      "attachments": {},
      "cell_type": "markdown",
      "metadata": {},
      "source": [
        "### 1.2 Solution - Run the following cell to check your answer."
      ]
    },
    {
      "cell_type": "code",
      "execution_count": 27,
      "metadata": {},
      "outputs": [],
      "source": [
        "#DO NOT EDIT THIS CELL\n",
        "\n",
        "#Verify the array was created with the correct name and has the proper shape\n",
        "assert myarray.shape == (5,3), 'Make sure you create an array with the proper shape!'"
      ]
    },
    {
      "attachments": {},
      "cell_type": "markdown",
      "metadata": {},
      "source": [
        "### 1.3 Calculate BMI \n",
        "\n",
        "Using the two lists provided, please calculate the BMI(body mass index) of each individual using NDArrays. Save the variable containing your results as `bmi`\n",
        "\n",
        "The formula for BMI in pounds and inches can be defined as: $BMI= \\frac{703 * weight} {(height)^2}$"
      ]
    },
    {
      "cell_type": "code",
      "execution_count": null,
      "metadata": {},
      "outputs": [],
      "source": []
    },
    {
      "cell_type": "code",
      "execution_count": 43,
      "metadata": {},
      "outputs": [
        {
          "data": {
            "text/plain": [
              "array([39.51,  8.79, 16.49, 14.06])"
            ]
          },
          "execution_count": 43,
          "metadata": {},
          "output_type": "execute_result"
        }
      ],
      "source": [
        "height = [55, 120, 90, 100]\n",
        "weight = [170, 180, 190, 200]\n",
        "\n",
        "arr_height = np.array(height)\n",
        "arr_weight = np.array(weight)\n",
        "\n",
        "bmi = 703 * (arr_weight / arr_height ** 2)\n",
        "bmi = np.round(bmi, 2)\n",
        "bmi"
      ]
    },
    {
      "attachments": {},
      "cell_type": "markdown",
      "metadata": {},
      "source": [
        "### 1.3 Solution: Run the following cell to check your answer."
      ]
    },
    {
      "cell_type": "code",
      "execution_count": 38,
      "metadata": {},
      "outputs": [],
      "source": [
        "assert 'bmi' in dir() , 'Make sure you have saved your results to the proper variable name!'\n",
        "assert type(bmi) == np.ndarray, 'Make sure that you made the calculation using an NDArray for both height and weight!'"
      ]
    },
    {
      "attachments": {},
      "cell_type": "markdown",
      "metadata": {},
      "source": [
        "### 1.4 Create a function \n",
        "\n",
        "Create a function named `my_func` that will take in two parameters and will create a random matrix based off of those parameters. Extra: Have additional parameters taken in that allow the user to choose the shape and data type of the matrix."
      ]
    },
    {
      "cell_type": "code",
      "execution_count": 108,
      "metadata": {},
      "outputs": [
        {
          "data": {
            "text/plain": [
              "array([[6, 3, 7, 4, 6, 9, 2, 6],\n",
              "       [7, 4, 3, 7, 7, 2, 5, 4],\n",
              "       [1, 7, 5, 1, 4, 0, 9, 5],\n",
              "       [8, 0, 9, 2, 6, 3, 8, 2],\n",
              "       [4, 2, 6, 4, 8, 6, 1, 3],\n",
              "       [8, 1, 9, 8, 9, 4, 1, 3],\n",
              "       [6, 7, 2, 0, 3, 1, 7, 3],\n",
              "       [1, 5, 5, 9, 3, 5, 1, 9]])"
            ]
          },
          "execution_count": 108,
          "metadata": {},
          "output_type": "execute_result"
        }
      ],
      "source": [
        "np.random.seed(42)\n",
        "def my_func (value1, value2):\n",
        "    mymatrix = np.random.randint(0, 10, (value1, value2))\n",
        "    return mymatrix\n",
        "\n",
        "my_func(8,8)"
      ]
    },
    {
      "attachments": {},
      "cell_type": "markdown",
      "metadata": {
        "id": "CYy4Zp5pk7tS"
      },
      "source": [
        "### 1.5 Array practice\n",
        "\n",
        "Time for some more practice. Run each of these tasks in the separate code cell listed below:\n",
        "\n",
        "1.  Return the first row\n",
        "2.  Return the last column\n",
        "3.  Return the third column values from the 4th and 5th rows\n",
        "4.  Multiply every value in the array by 2\n",
        "5.  Divide every value by 3\n",
        "6.  Increase the values in the first row by 12\n",
        "7. Calculate the mean of the first column\n",
        "8. Calculate the median of the array _after_ removing the 2 smallest values in the array\n",
        "9. Calculate the standard deviation of the first 3 rows\n",
        "10. Return values greater than 25 in the second column\n",
        "11. Return values less than 40 in the array"
      ]
    },
    {
      "cell_type": "code",
      "execution_count": 109,
      "metadata": {
        "colab": {
          "base_uri": "https://localhost:8080/"
        },
        "id": "lIxLoTfGl910",
        "outputId": "126ce770-41b6-42ab-eab5-26071a027979"
      },
      "outputs": [
        {
          "name": "stdout",
          "output_type": "stream",
          "text": [
            "[6 3 7 4 6 9 2 6]\n"
          ]
        }
      ],
      "source": [
        "np.random.seed(42)\n",
        "def my_func (value1, value2):\n",
        "    mymatrix = np.random.randint(0, 10, (value1, value2))\n",
        "    return mymatrix\n",
        "\n",
        "M = my_func(8,8)\n",
        "\n",
        "# 1. Return the first row:\n",
        "print(M[0,:])"
      ]
    },
    {
      "cell_type": "code",
      "execution_count": 110,
      "metadata": {
        "colab": {
          "base_uri": "https://localhost:8080/"
        },
        "id": "lMafok6zoGB-",
        "outputId": "df874775-ac9e-42de-c305-fd7e13afc98b"
      },
      "outputs": [
        {
          "name": "stdout",
          "output_type": "stream",
          "text": [
            "[6 4 5 2 3 3 3 9]\n"
          ]
        }
      ],
      "source": [
        "# 2. Return the last column\n",
        "print(M[:,7])"
      ]
    },
    {
      "cell_type": "code",
      "execution_count": 115,
      "metadata": {
        "colab": {
          "base_uri": "https://localhost:8080/"
        },
        "id": "TEpRarEbobjz",
        "outputId": "0adb6634-385c-47a4-f01e-1b8add2518d1"
      },
      "outputs": [
        {
          "name": "stdout",
          "output_type": "stream",
          "text": [
            "[9 6]\n"
          ]
        }
      ],
      "source": [
        "# 3. Return the third column values from the 4th and 5th rows\n",
        "print(M[3:5,2])\n"
      ]
    },
    {
      "cell_type": "code",
      "execution_count": 119,
      "metadata": {
        "colab": {
          "base_uri": "https://localhost:8080/"
        },
        "id": "6nR51YtPpdKo",
        "outputId": "244aec23-e37a-4bca-d8fb-43b3744f3c4d"
      },
      "outputs": [
        {
          "name": "stdout",
          "output_type": "stream",
          "text": [
            "[[12  6 14  8 12 18  4 12]\n",
            " [14  8  6 14 14  4 10  8]\n",
            " [ 2 14 10  2  8  0 18 10]\n",
            " [16  0 18  4 12  6 16  4]\n",
            " [ 8  4 12  8 16 12  2  6]\n",
            " [16  2 18 16 18  8  2  6]\n",
            " [12 14  4  0  6  2 14  6]\n",
            " [ 2 10 10 18  6 10  2 18]]\n",
            "[[12  6 14  8 12 18  4 12]\n",
            " [14  8  6 14 14  4 10  8]\n",
            " [ 2 14 10  2  8  0 18 10]\n",
            " [16  0 18  4 12  6 16  4]\n",
            " [ 8  4 12  8 16 12  2  6]\n",
            " [16  2 18 16 18  8  2  6]\n",
            " [12 14  4  0  6  2 14  6]\n",
            " [ 2 10 10 18  6 10  2 18]]\n"
          ]
        }
      ],
      "source": [
        "# 4. Multiply every value in the array by 2\n",
        "print(M * 2)\n",
        "\n",
        "# or\n",
        "\n",
        "print(M[:,:] * 2)"
      ]
    },
    {
      "cell_type": "code",
      "execution_count": 137,
      "metadata": {
        "colab": {
          "base_uri": "https://localhost:8080/"
        },
        "id": "6Nr8BqCVpfr1",
        "outputId": "a3616032-2853-41a8-c941-b5a8be43f70f"
      },
      "outputs": [
        {
          "name": "stdout",
          "output_type": "stream",
          "text": [
            "[[2.         1.         2.33333333 1.33333333 2.         3.\n",
            "  0.66666667 2.        ]\n",
            " [2.33333333 1.33333333 1.         2.33333333 2.33333333 0.66666667\n",
            "  1.66666667 1.33333333]\n",
            " [0.33333333 2.33333333 1.66666667 0.33333333 1.33333333 0.\n",
            "  3.         1.66666667]\n",
            " [2.66666667 0.         3.         0.66666667 2.         1.\n",
            "  2.66666667 0.66666667]\n",
            " [1.33333333 0.66666667 2.         1.33333333 2.66666667 2.\n",
            "  0.33333333 1.        ]\n",
            " [2.66666667 0.33333333 3.         2.66666667 3.         1.33333333\n",
            "  0.33333333 1.        ]\n",
            " [2.         2.33333333 0.66666667 0.         1.         0.33333333\n",
            "  2.33333333 1.        ]\n",
            " [0.33333333 1.66666667 1.66666667 3.         1.         1.66666667\n",
            "  0.33333333 3.        ]]\n"
          ]
        }
      ],
      "source": [
        "# 5. Divide every value by 3\n",
        "\n",
        "print(M / 3)"
      ]
    },
    {
      "cell_type": "code",
      "execution_count": 138,
      "metadata": {
        "colab": {
          "base_uri": "https://localhost:8080/"
        },
        "id": "5ejUOn2gptcV",
        "outputId": "921e3aab-2cf7-4a46-8581-5fdb1fb69da1"
      },
      "outputs": [
        {
          "name": "stdout",
          "output_type": "stream",
          "text": [
            "[18 15 19 16 18 21 14 18]\n"
          ]
        }
      ],
      "source": [
        "# 6. Increase the values in the first row by 12\n",
        "print(M[0,:] + 12)"
      ]
    },
    {
      "cell_type": "code",
      "execution_count": 140,
      "metadata": {
        "colab": {
          "base_uri": "https://localhost:8080/"
        },
        "id": "o-q-n6rzpunI",
        "outputId": "0783e4fc-2bc5-4480-e62d-90fdd33c73e2"
      },
      "outputs": [
        {
          "name": "stdout",
          "output_type": "stream",
          "text": [
            "5\n"
          ]
        }
      ],
      "source": [
        "# 7. Calculate the mean of the first column\n",
        "print(int(np.mean(M[:,0])))"
      ]
    },
    {
      "cell_type": "code",
      "execution_count": 145,
      "metadata": {
        "colab": {
          "base_uri": "https://localhost:8080/"
        },
        "id": "izVdnwnLpuuY",
        "outputId": "11965467-d665-416e-a4ec-883745aa668f"
      },
      "outputs": [
        {
          "name": "stdout",
          "output_type": "stream",
          "text": [
            "[14 15 16 18 18 18 19 21]\n",
            "[16 18 18 18 19 21]\n"
          ]
        }
      ],
      "source": [
        "# 8. Calculate the median of the array after removing the 2 smallest values in the array\n",
        "myarray = np.array([18, 15, 19, 16, 18, 21, 14, 18])\n",
        "sorted_myarray = np.sort(myarray)\n",
        "print(sorted_myarray)\n",
        "clipped_myarray = sorted_myarray[2:]\n",
        "print(clipped_myarray)"
      ]
    },
    {
      "cell_type": "code",
      "execution_count": 172,
      "metadata": {
        "colab": {
          "base_uri": "https://localhost:8080/"
        },
        "id": "1WCDKp2xrzK9",
        "outputId": "74aca405-d2d6-4ec6-e983-a438a8aec81f"
      },
      "outputs": [
        {
          "name": "stdout",
          "output_type": "stream",
          "text": [
            "[6 3 7 4 6 9 2 6 7 4 3 7 7 2 5 4 1 7 5 1 4 0 9 5]\n",
            "2.419538523492996\n"
          ]
        }
      ],
      "source": [
        "# 9. Calculate the standard deviation of the first 3 rows\n",
        "# Generate a new array to work on\n",
        "np.random.seed(2) # New seed for new array\n",
        "newarray = np.array(np.concatenate((M[0:3, :])))\n",
        "print(newarray)\n",
        "print(np.std(newarray))\n"
      ]
    },
    {
      "cell_type": "code",
      "execution_count": 159,
      "metadata": {
        "colab": {
          "base_uri": "https://localhost:8080/"
        },
        "id": "zb7aXd3xry3r",
        "outputId": "e6f81b8a-1cb1-4c9f-a734-a8471a8f7961"
      },
      "outputs": [
        {
          "name": "stdout",
          "output_type": "stream",
          "text": [
            "[4 7 7 5]\n"
          ]
        }
      ],
      "source": [
        "# 10. Return values in the second column greater than 25\n",
        "# NOTE: I MADE IT MORE MEANINGFUL BY USING > 3\n",
        "mask = (M[:,1]) > 3\n",
        "print(M[mask,1])"
      ]
    },
    {
      "cell_type": "code",
      "execution_count": 160,
      "metadata": {
        "colab": {
          "base_uri": "https://localhost:8080/"
        },
        "id": "IZ8HYk95ocDE",
        "outputId": "8d047861-9abd-4138-ce5c-366821ca933c"
      },
      "outputs": [
        {
          "name": "stdout",
          "output_type": "stream",
          "text": [
            "[2 2 1 1 0 0 2 2 2 1 1 1 2 0 1 1 1]\n"
          ]
        }
      ],
      "source": [
        "# 11. Return values < 40 in the array\n",
        "# NOTE: I MADE IT MORE MEANINGFUL BY USING < 3\n",
        "mask = M < 3\n",
        "print(M[mask])"
      ]
    },
    {
      "cell_type": "code",
      "execution_count": null,
      "metadata": {},
      "outputs": [],
      "source": []
    },
    {
      "attachments": {},
      "cell_type": "markdown",
      "metadata": {
        "id": "6Xwf9ZDLX_xp"
      },
      "source": [
        "### Solution 1.5: Run the following cell to view the solution for each of the above tasks.\n",
        "\n",
        "A new array will be generated to demonstrate the solution - the values will not be the same as your array. But the code for each task will still apply."
      ]
    },
    {
      "cell_type": "code",
      "execution_count": 146,
      "metadata": {
        "colab": {
          "base_uri": "https://localhost:8080/"
        },
        "id": "15P0nIbqY8vi",
        "outputId": "f0aa2414-b800-48de-c300-d3763e4eb9fc"
      },
      "outputs": [
        {
          "name": "stdout",
          "output_type": "stream",
          "text": [
            "The generated array: \n",
            " [[43 33 73]\n",
            " [61 99 13]\n",
            " [94 47 14]\n",
            " [71 77 86]\n",
            " [61 39 84]]\n",
            "\n",
            "\n",
            "1. The first row:  [43 33 73]\n",
            "\n",
            "\n",
            "2. The last column:  [73 13 14 86 84]\n",
            "\n",
            "\n",
            "3. The 3rd column, 4th & 5th rows:  [86 84]\n",
            "\n",
            "\n",
            "4. Multiply by 2: \n",
            " [[ 86  66 146]\n",
            " [122 198  26]\n",
            " [188  94  28]\n",
            " [142 154 172]\n",
            " [122  78 168]]\n",
            "\n",
            "\n",
            "5. Divide by 3: \n",
            " [[14.33333333 11.         24.33333333]\n",
            " [20.33333333 33.          4.33333333]\n",
            " [31.33333333 15.66666667  4.66666667]\n",
            " [23.66666667 25.66666667 28.66666667]\n",
            " [20.33333333 13.         28.        ]]\n",
            "\n",
            "\n",
            "6. Add 12 to the first row: \n",
            " [55 45 85]\n",
            "\n",
            "\n",
            "7. The mean of the 1st column:  66.0\n",
            "\n",
            "\n",
            "8. The median after removing the 2 smallest values:  71.0\n",
            "\n",
            "\n",
            "9. The standard deviation is:  24.03598125855752\n",
            "\n",
            "\n",
            "10. All values in 2nd column > 25: \n",
            " [[79 81 52]\n",
            " [59 40 28]\n",
            " [14 44 64]\n",
            " [88 70  8]]\n",
            "\n",
            "\n",
            "11. All values < 40: \n",
            " [23 25 28 14  8]\n"
          ]
        }
      ],
      "source": [
        "# DO NOT EDIT THIS CELL\n",
        "# SOLUTION 1.3\n",
        "\n",
        "# SOLUTION: Make sure you have completed all of the above tasks\n",
        "# Generate your random numbers (NEW ARRAY)\n",
        "myarray = np.random.randint(100, size=(5, 3))\n",
        "print('The generated array: \\n', myarray)\n",
        "print('\\n')\n",
        "\n",
        "# 1. Return the first row:\n",
        "print('1. The first row: ', myarray[0])\n",
        "print('\\n')\n",
        "\n",
        "# 2. Return the last column\n",
        "print('2. The last column: ', myarray[:,-1])\n",
        "print('\\n')\n",
        "\n",
        "# 3. Return the third column values from the 4th and 5th rows\n",
        "print('3. The 3rd column, 4th & 5th rows: ', myarray[3:5,2])\n",
        "print('\\n')\n",
        "\n",
        "# 4. Multiply every value in the array by 2\n",
        "# (operates on the original array)\n",
        "print('4. Multiply by 2: \\n', myarray * 2)\n",
        "print('\\n')\n",
        "\n",
        "# 5. Divide every value by 3\n",
        "# (operates on the original array)\n",
        "print('5. Divide by 3: \\n', myarray / 3)\n",
        "print('\\n')\n",
        "\n",
        "# 6. Increase the values in the first row by 12\n",
        "# (operates on the original array)\n",
        "print('6. Add 12 to the first row: \\n', myarray[0,:] + 12)\n",
        "print('\\n')\n",
        "\n",
        "# 7. Calculate the mean of the first column\n",
        "print('7. The mean of the 1st column: ', myarray[:,0].mean())\n",
        "print('\\n')\n",
        "\n",
        "# 8. Calculate the median of the array after removing the 2 smallest values in the array\n",
        "# flatten and sort (axis=None does the flattening)\n",
        "myarray = np.sort(myarray, axis=None)\n",
        "# remove two smallest values\n",
        "myarray = myarray[2:]\n",
        "# calculate the median\n",
        "print('8. The median after removing the 2 smallest values: ', np.median(myarray))\n",
        "print('\\n')\n",
        "\n",
        "# 9. Calculate the standard deviation of the first 3 rows\n",
        "# Generate new array first:\n",
        "myarray = np.random.randint(100, size=(5, 3))\n",
        "# Then calculate the std:\n",
        "print('9. The standard deviation is: ', np.std(myarray[0:3,:]))\n",
        "print('\\n')\n",
        "\n",
        "# 10. Return values in the second column greater than 25\n",
        "# create a Boolean mask where values in the 2nd column > 25 are True\n",
        "condition = myarray[:,1] > 25\n",
        "# Apply the mask\n",
        "print('10. All values in 2nd column > 25: \\n', myarray[condition])\n",
        "print('\\n')\n",
        "\n",
        "# 11. Return values < 40 in the array\n",
        "# create another Boolean mask for values < 40\n",
        "condition = myarray < 40\n",
        "# apply the mask\n",
        "print('11. All values < 40: \\n', myarray[condition])"
      ]
    }
  ],
  "metadata": {
    "colab": {
      "provenance": []
    },
    "kernelspec": {
      "display_name": "Python 3",
      "language": "python",
      "name": "python3"
    },
    "language_info": {
      "codemirror_mode": {
        "name": "ipython",
        "version": 3
      },
      "file_extension": ".py",
      "mimetype": "text/x-python",
      "name": "python",
      "nbconvert_exporter": "python",
      "pygments_lexer": "ipython3",
      "version": "3.11.3"
    },
    "vscode": {
      "interpreter": {
        "hash": "26de051ba29f2982a8de78e945f0abaf191376122a1563185a90213a26c5da77"
      }
    }
  },
  "nbformat": 4,
  "nbformat_minor": 0
}
