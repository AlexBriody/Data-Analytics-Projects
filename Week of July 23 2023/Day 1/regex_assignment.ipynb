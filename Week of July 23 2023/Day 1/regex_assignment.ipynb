{
 "cells": [
  {
   "attachments": {},
   "cell_type": "markdown",
   "metadata": {},
   "source": [
    "### Regex project\n",
    "\n",
    "Use python to read the file regex_test.txt and print the last name on each line using regular expressions and groups (return None for names with no first and last name, or names that aren't properly capitalized)\n",
    "##### Hint: use with open() and readlines()\n",
    "\n",
    "**Expected Output:**\n",
    "\n",
    "Abraham Lincoln\n",
    "\n",
    "Andrew P Garfield\n",
    "\n",
    "Connor Milliken\n",
    "\n",
    "Jordan Alexander Williams\n",
    "\n",
    "None\n",
    "\n",
    "None"
   ]
  },
  {
   "cell_type": "code",
   "execution_count": 3,
   "metadata": {},
   "outputs": [
    {
     "name": "stdout",
     "output_type": "stream",
     "text": [
      "Abraham Lincoln\n",
      "Connor Milliken\n",
      "Alexander Williams\n",
      "Andrew P Garfield\n",
      "Jordan Alexander Williams\n",
      "None\n",
      "None\n"
     ]
    }
   ],
   "source": [
    "import re\n",
    "\n",
    "with open(r'/Users/alexanderbriody/Desktop/Coding Temple/Data-Analytics-Projects/Week of July 23 2023/Day 1/regex_test.txt') as f:\n",
    "    data = f.read()\n",
    "\n",
    "def TraditionalNames(data):\n",
    "    pattern1 = re.compile(r\"([A-Z][a-z]+) ([A-Z][a-z]+)$\", re.MULTILINE) # regex for capitalized word and capitalized word\n",
    "    pattern2 = re.compile(r\"([A-Z][a-z]+) ([A-Z]) ([A-Z][a-z]+)$\", re.MULTILINE) # regex for capitalized word and capitalized letter and capitalized word\n",
    "    pattern3 = re.compile(r\"([A-Z][a-z]+) ([A-Z][a-z]+) ([A-Z][a-z]+)$\", re.MULTILINE) # regex for three capitalized words\n",
    "    pattern4 = re.compile(r\"([A-Z][a-z]+)$\", re.MULTILINE) # regex for one capitalized word\n",
    "    pattern5 = re.compile(r\"[a-z ]+$\", re.MULTILINE) # regex for one or more lower case words\n",
    "\n",
    "    if pattern1.search(data):\n",
    "        matches1 = pattern1.findall(data)\n",
    "        for match in matches1:\n",
    "            print(f\"{match[0]} {match[1]}\")\n",
    "    if pattern2.search(data):\n",
    "        matches2 = pattern2.findall(data)\n",
    "        for match in matches2:\n",
    "            print(f\"{match[0]} {match[1]} {match[2]}\")\n",
    "    if pattern3.search(data):\n",
    "        matches3 = pattern3.findall(data)\n",
    "        for match in matches3:\n",
    "            print(f\"{match[0]} {match[1]} {match[2]}\")\n",
    "    if pattern4.search(data):\n",
    "        print(None)\n",
    "    if pattern5.search(data):\n",
    "        print(None)\n",
    "\n",
    "TraditionalNames(data)"
   ]
  },
  {
   "cell_type": "markdown",
   "metadata": {},
   "source": []
  },
  {
   "cell_type": "markdown",
   "metadata": {},
   "source": []
  }
 ],
 "metadata": {
  "kernelspec": {
   "display_name": "Python 3",
   "language": "python",
   "name": "python3"
  },
  "language_info": {
   "codemirror_mode": {
    "name": "ipython",
    "version": 3
   },
   "file_extension": ".py",
   "mimetype": "text/x-python",
   "name": "python",
   "nbconvert_exporter": "python",
   "pygments_lexer": "ipython3",
   "version": "3.11.3"
  },
  "orig_nbformat": 4
 },
 "nbformat": 4,
 "nbformat_minor": 2
}
