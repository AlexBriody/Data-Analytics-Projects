{
 "cells": [
  {
   "attachments": {},
   "cell_type": "markdown",
   "metadata": {},
   "source": [
    "# Coding Temple's Data Analytics Course\n",
    "---\n",
    "## Python 1: Assignment 2\n",
    "---"
   ]
  },
  {
   "attachments": {},
   "cell_type": "markdown",
   "metadata": {},
   "source": [
    "### **Task 1: List Comprehension**\n",
    "Given a list as a parameter, write a function named `less_than_10`, that uses list comprehension to returns the input list with all numbers less than 10."
   ]
  },
  {
   "cell_type": "code",
   "execution_count": 1,
   "metadata": {},
   "outputs": [
    {
     "name": "stdout",
     "output_type": "stream",
     "text": [
      "[1, 4, 2, 7]\n"
     ]
    }
   ],
   "source": [
    "# YOUR CODE HERE\n",
    "list_of_numbers = [23, 1, 432, 53, 12, 4, 54, 31, 2, 21, 7]\n",
    "\n",
    "def less_than_ten (your_list: list):\n",
    "    less_than_ten_list = [your_list[index] for index in range(len(your_list))if your_list[index] < 10]\n",
    "    return less_than_ten_list\n",
    "    \n",
    "print(less_than_ten(list_of_numbers))"
   ]
  },
  {
   "attachments": {},
   "cell_type": "markdown",
   "metadata": {},
   "source": [
    "### **Task 1 Testing**\n",
    "This cell is to test your task 1"
   ]
  },
  {
   "cell_type": "code",
   "execution_count": null,
   "metadata": {},
   "outputs": [],
   "source": [
    "# DO NOT EDIT THIS CELL\n",
    "a = [1,2,5,9,55,781,25,478,15,7,99]\n",
    "a_test = [1,2,5,9,7]\n",
    "assert less_than_10(a) == a_test, 'Double check that your function is working properly!'"
   ]
  },
  {
   "attachments": {},
   "cell_type": "markdown",
   "metadata": {},
   "source": [
    "### **Task 2: Merge**\n",
    "Write a function named `merge_lists` that takes two seperate lists as arguments and returns the two lists merged together AND sorted."
   ]
  },
  {
   "cell_type": "code",
   "execution_count": 17,
   "metadata": {},
   "outputs": [
    {
     "data": {
      "text/plain": [
       "[1, 2, 3, 4, 5, 6, 7, 8, 9, 10, 11, 12, 13, 14, 15, 16, 17, 18, 19, 20, 21, 22]"
      ]
     },
     "execution_count": 17,
     "metadata": {},
     "output_type": "execute_result"
    }
   ],
   "source": [
    "# YOUR CODE HERE\n",
    "listodd = [3, 21, 13, 7, 15, 1, 11, 19, 5, 17, 9]\n",
    "listeven = [8, 4, 12, 22, 6, 14, 2, 20, 10, 18, 16]\n",
    "\n",
    "def merge_lists (list1, list2):\n",
    "    merged_list = []\n",
    "    for index in range(len(list1)):\n",
    "        merged_list.append(list1[index])\n",
    "        merged_list.append(list2[index])\n",
    "    merged_list.sort()\n",
    "    return (merged_list)\n",
    "\n",
    "merge_lists(listodd, listeven)\n"
   ]
  },
  {
   "attachments": {},
   "cell_type": "markdown",
   "metadata": {},
   "source": [
    "### **Task 2 Testing**\n",
    "This cell is to test your task 2"
   ]
  },
  {
   "cell_type": "code",
   "execution_count": null,
   "metadata": {},
   "outputs": [],
   "source": [
    "l_1 = [1,5,4]\n",
    "l_2 = [2,6,3]\n",
    "answer = [1,2,3,4,5,6]\n",
    "assert merge_lists(l_1, l_2) == answer, 'Double Check your function is performing properly!'"
   ]
  },
  {
   "attachments": {},
   "cell_type": "markdown",
   "metadata": {},
   "source": [
    "### **Task 3.1: List Creation**\n",
    "Create a three seperate lists. Save these lists as:\n",
    "* `first_names`: List of 10 first names\n",
    "* `middle_names`: List of 10 middle names\n",
    "* `last_names`: List of 10 last names"
   ]
  },
  {
   "cell_type": "code",
   "execution_count": null,
   "metadata": {},
   "outputs": [],
   "source": [
    "# YOUR CODE HERE\n",
    "first_names = ['Thomas', 'Susan', 'Joe' , 'Nicole' , 'Angela' , 'Tobey' , 'Tonya' , 'Nathan', 'Jessica', 'Samantha']\n",
    "middle_names = ['George', 'Tina', 'Warren' , 'Debra' , 'Mary' , 'Jesse' , 'Sabrina' , 'Lucas', 'Theresa', 'Faye']\n",
    "last_names = ['Smith', 'Lee', 'Jakub' , 'Ong' , 'Omakbo' , 'Friedman' , 'Thompson' , 'Savoy', 'Jira', 'Samantha']"
   ]
  },
  {
   "attachments": {},
   "cell_type": "markdown",
   "metadata": {},
   "source": [
    "### **Task 3.2: Range Function**\n",
    "Using the three lists you created in the last task, build a function named `name_generator` which takes in each of these lists as an input and performs the following:\n",
    "\n",
    "* Iterates through each list using a range\n",
    "* Creates a `full_name` variable, which has a first, middle, and last name\n",
    "* Saves the `full_name` to the list `full_names`\n",
    "* Returns the `full_names` list"
   ]
  },
  {
   "cell_type": "code",
   "execution_count": 38,
   "metadata": {},
   "outputs": [
    {
     "name": "stdout",
     "output_type": "stream",
     "text": [
      "['Thomas George Smith', 'Susan Tina Lee', 'Joe Warren Jakub', 'Nicole Debra Ong', 'Angela Mary Omakbo', 'Tobey Jesse Friedman', 'Tonya Sabrina Thompson', 'Nathan Lucas Savoy', 'Jessica Theresa Jira', 'Samantha Faye Li']\n",
      "['Thomas George Smith', 'Susan Tina Lee', 'Joe Warren Jakub', 'Nicole Debra Ong', 'Angela Mary Omakbo', 'Tobey Jesse Friedman', 'Tonya Sabrina Thompson', 'Nathan Lucas Savoy', 'Jessica Theresa Jira', 'Samantha Faye Li']\n"
     ]
    }
   ],
   "source": [
    "# YOUR CODE HERE\n",
    "first_names = ['Thomas', 'Susan', 'Joe' , 'Nicole' , 'Angela' , 'Tobey' , 'Tonya' , 'Nathan', 'Jessica', 'Samantha']\n",
    "middle_names = ['George', 'Tina', 'Warren' , 'Debra' , 'Mary' , 'Jesse' , 'Sabrina' , 'Lucas', 'Theresa', 'Faye']\n",
    "last_names = ['Smith', 'Lee', 'Jakub' , 'Ong' , 'Omakbo' , 'Friedman' , 'Thompson' , 'Savoy', 'Jira', 'Li']\n",
    "\n",
    "def name_generator(list_first: list, list_middle: list, list_last: list):\n",
    "    full_names = []\n",
    "\n",
    "    for i in range(len(list_first)):\n",
    "        full_name = list_first[i] + \" \" + list_middle[i] + \" \" + list_last[i]\n",
    "        full_names.append(full_name)\n",
    "    return full_names\n",
    "\n",
    "print(name_generator(first_names, middle_names, last_names))\n",
    "\n",
    "\n",
    "#ALTERNATE CODE USING 'ZIP' AND ONE LESS OBJECT\n",
    "\n",
    "def name_generator(list_first: list, list_middle: list, list_last: list):\n",
    "    full_names = []\n",
    "\n",
    "    for first, middle, last in zip(list_first, list_middle, list_last):\n",
    "        full_names.append(f'{first} {middle} {last}')\n",
    "    return full_names\n",
    "\n",
    "print(name_generator(first_names, middle_names, last_names))"
   ]
  },
  {
   "attachments": {},
   "cell_type": "markdown",
   "metadata": {},
   "source": [
    "### **Task 3 Testing**\n",
    "This cell is to test your task 3"
   ]
  },
  {
   "cell_type": "code",
   "execution_count": null,
   "metadata": {},
   "outputs": [],
   "source": [
    "# DO NOT EDIT THIS CELL\n",
    "first = ['Alex', 'Brandon', 'Nick']\n",
    "middle = ['The Rock', 'The Paper', 'The Scissors']\n",
    "last = ['Lucchesi', 'Apol', 'Fuentes']\n",
    "answer = ['Alex The Rock Lucchesi','Brandon The Paper Apol','Nick The Scissors Fuentes']\n",
    "assert name_generator(first,middle,last) == answer, 'Double check that your function is performing the way it is supposed to!'"
   ]
  },
  {
   "attachments": {},
   "cell_type": "markdown",
   "metadata": {},
   "source": [
    "### **Task 4: User Functions**\n",
    "For this task, you will create a function named `user_input` which:\n",
    "* Asks a user to input their favorite activity or type 'n'\n",
    "* Repeats until the user types 'n'\n",
    "* Stores all user inputs to a list\n",
    "* Returns that list if a print statement when user types 'n'"
   ]
  },
  {
   "cell_type": "code",
   "execution_count": 2,
   "metadata": {},
   "outputs": [
    {
     "name": "stdout",
     "output_type": "stream",
     "text": [
      "['running', 'swimming', 'hiking', 'dog walking ', 'meditating ', 'sleeping']\n"
     ]
    }
   ],
   "source": [
    "# YOUR CODE HERE\n",
    "def user_input():\n",
    "    fave_acts = []\n",
    "    while True:\n",
    "        answer = input('What is your favorite activity? Type \"n\" to quit')\n",
    "\n",
    "        if answer.lower() == 'n':\n",
    "            break\n",
    "        else:\n",
    "            fave_acts.append(answer)\n",
    "            \n",
    "    return fave_acts\n",
    "\n",
    "print(user_input()) "
   ]
  },
  {
   "cell_type": "code",
   "execution_count": null,
   "metadata": {},
   "outputs": [],
   "source": []
  },
  {
   "cell_type": "markdown",
   "metadata": {},
   "source": []
  }
 ],
 "metadata": {
  "kernelspec": {
   "display_name": "Python 3",
   "language": "python",
   "name": "python3"
  },
  "language_info": {
   "codemirror_mode": {
    "name": "ipython",
    "version": 3
   },
   "file_extension": ".py",
   "mimetype": "text/x-python",
   "name": "python",
   "nbconvert_exporter": "python",
   "pygments_lexer": "ipython3",
   "version": "3.11.3"
  },
  "orig_nbformat": 4,
  "vscode": {
   "interpreter": {
    "hash": "26de051ba29f2982a8de78e945f0abaf191376122a1563185a90213a26c5da77"
   }
  }
 },
 "nbformat": 4,
 "nbformat_minor": 2
}
