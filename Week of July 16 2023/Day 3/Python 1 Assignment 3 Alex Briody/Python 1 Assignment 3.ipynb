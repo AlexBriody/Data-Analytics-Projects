{
 "cells": [
  {
   "attachments": {},
   "cell_type": "markdown",
   "metadata": {},
   "source": [
    "# Coding Temple's Data Analytics Program\n",
    "---\n",
    "## Python 1 Assignment 3\n",
    "---"
   ]
  },
  {
   "attachments": {},
   "cell_type": "markdown",
   "metadata": {},
   "source": [
    "### **Task 1: Build a Shopping Cart**\n",
    "**You can use either lists or dictionaries. The program should have the following capabilites:**\n",
    "* Takes a string as an input\n",
    "* Stores user input in a dictionary or list\n",
    "* Users should be able to:\n",
    "    * Add Items\n",
    "    * Delete Items\n",
    "    * See current shopping cart\n",
    "* The program should loop until user 'quits'\n",
    "* Upon quitting the program, print out all items in the user's list"
   ]
  },
  {
   "cell_type": "code",
   "execution_count": 1,
   "metadata": {},
   "outputs": [
    {
     "name": "stdout",
     "output_type": "stream",
     "text": [
      "These items are in your cart: Chocolate M&Ms Beer\n"
     ]
    }
   ],
   "source": [
    "from IPython.display import clear_output\n",
    "\n",
    "# Ask the user 5 bits of input: Do you want to : Show/Add/Delete/clear or Quit?\n",
    "# YOUR CODE HERE\n",
    "\n",
    "def shopping_cart():\n",
    "    cart = []\n",
    "\n",
    "    while True:\n",
    "        answer = input(\"Do you want to 'show' 'add' 'delete' items to your cart? ('quit' to exit)\")\n",
    "        clear_output()\n",
    "\n",
    "        if answer.lower() == 'quit':\n",
    "            print(f\"These items are in your cart: {' '.join(cart)}\")\n",
    "            break\n",
    "        if answer.lower() == 'show':\n",
    "            print(f\"These items are in your cart: {' '.join(cart)}\")\n",
    "        if answer.lower() == 'add':\n",
    "            answer_add = input(\"Please enter the item to add\")\n",
    "            cart.append(answer_add)\n",
    "        if answer.lower() == 'delete':\n",
    "            answer_delete = input(\"Please enter the item to delete\")\n",
    "            cart.remove(answer_delete)\n",
    "\n",
    "shopping_cart()"
   ]
  },
  {
   "attachments": {},
   "cell_type": "markdown",
   "metadata": {},
   "source": [
    "### **Task 2: Create a Module and Import it**\n",
    "Create a Module in VS Code and import it into a Notebook. Use each of the functions you build in your module\n",
    "\n",
    "**Your module should have the following capabilities:**\n",
    "* Has a function to calculate the square footage of a house\n",
    "* Has a function to calculate the circumference of a circle\n",
    "* Has a function to change feet to inches"
   ]
  },
  {
   "cell_type": "code",
   "execution_count": 16,
   "metadata": {},
   "outputs": [
    {
     "data": {
      "text/plain": [
       "'291,879.03 in'"
      ]
     },
     "execution_count": 16,
     "metadata": {},
     "output_type": "execute_result"
    }
   ],
   "source": [
    "from calculator import sq_footage as sq, circle_circum as cc, feet_to_in as fi\n",
    "\n",
    "sq(40358.423, 2340284.42)\n",
    "\n",
    "cc(234234.414)\n",
    "\n",
    "fi(24323.2523525)"
   ]
  },
  {
   "attachments": {},
   "cell_type": "markdown",
   "metadata": {},
   "source": [
    "### **Task 3.1: Lists**\n",
    "Create 4 lists. Two of these lists should be keys, two of these lists should be values"
   ]
  },
  {
   "cell_type": "code",
   "execution_count": null,
   "metadata": {},
   "outputs": [],
   "source": [
    "L1 = ['Northeast', 'West Coast', 'South', 'Midwest']\n",
    "L2 = ['New Jersey', 'California', 'Texas', 'Michigan']\n",
    "L3 = ['Freshman', 'Sophomore','Junior','Senior']\n",
    "L4 = ['Dave', 'Tia', 'Jason', 'Kara']\n"
   ]
  },
  {
   "attachments": {},
   "cell_type": "markdown",
   "metadata": {},
   "source": [
    "### **Task 3.2: Create a function that converts two lists into a dictionary, then merges two dictionaries into one.**\n",
    "\n",
    "Using your 4 lists, create a function which combines the keys lists with the values lists into a dictionary, then merges and returns the two dictionaries together."
   ]
  },
  {
   "cell_type": "code",
   "execution_count": 4,
   "metadata": {},
   "outputs": [
    {
     "name": "stdout",
     "output_type": "stream",
     "text": [
      "{'Northeast': 'New Jersey', 'West Coast': 'California', 'South': 'Texas', 'Midwest': 'Michigan'}\n",
      "{'Freshman': 'Dave', 'Sophomore': 'Tia', 'Junior': 'Jason', 'Senior': 'Kara'}\n"
     ]
    },
    {
     "data": {
      "text/plain": [
       "{'Northeast': 'New Jersey',\n",
       " 'West Coast': 'California',\n",
       " 'South': 'Texas',\n",
       " 'Midwest': 'Michigan',\n",
       " 'Freshman': 'Dave',\n",
       " 'Sophomore': 'Tia',\n",
       " 'Junior': 'Jason',\n",
       " 'Senior': 'Kara'}"
      ]
     },
     "execution_count": 4,
     "metadata": {},
     "output_type": "execute_result"
    }
   ],
   "source": [
    "L1 = ['Northeast', 'West Coast', 'South', 'Midwest']\n",
    "L2 = ['New Jersey', 'California', 'Texas', 'Michigan']\n",
    "L3 = ['Freshman', 'Sophomore','Junior','Senior']\n",
    "L4 = ['Dave', 'Tia', 'Jason', 'Kara']\n",
    "\n",
    "def lists_to_dict(list1:list, list2: list):\n",
    "    my_dict = {}\n",
    "    for index_position in range(len(list1)): #iterating through list1\n",
    "        my_dict[list1[index_position]] = list2[index_position] #creating dictionary with list1 and list2 elements\n",
    "    return my_dict\n",
    "\n",
    "dict1 = lists_to_dict(L1, L2)\n",
    "dict2 = lists_to_dict(L3, L4)\n",
    "print(dict1)\n",
    "print(dict2)\n",
    "\n",
    "def dict_and_dict (diction1: dict, diction2: dict):\n",
    "    combined_dict = diction1 #putting diction1 into the combined dictionary\n",
    "    for key,value in diction2.items(): #looping through diction2... \n",
    "        combined_dict[key] = value #...and adding its keys and values to combined dictionary\n",
    "    return combined_dict\n",
    "\n",
    "dict_and_dict(dict1, dict2)\n"
   ]
  },
  {
   "cell_type": "markdown",
   "metadata": {},
   "source": []
  },
  {
   "cell_type": "markdown",
   "metadata": {},
   "source": []
  }
 ],
 "metadata": {
  "kernelspec": {
   "display_name": "Python 3",
   "language": "python",
   "name": "python3"
  },
  "language_info": {
   "codemirror_mode": {
    "name": "ipython",
    "version": 3
   },
   "file_extension": ".py",
   "mimetype": "text/x-python",
   "name": "python",
   "nbconvert_exporter": "python",
   "pygments_lexer": "ipython3",
   "version": "3.11.3"
  },
  "orig_nbformat": 4,
  "vscode": {
   "interpreter": {
    "hash": "26de051ba29f2982a8de78e945f0abaf191376122a1563185a90213a26c5da77"
   }
  }
 },
 "nbformat": 4,
 "nbformat_minor": 2
}
