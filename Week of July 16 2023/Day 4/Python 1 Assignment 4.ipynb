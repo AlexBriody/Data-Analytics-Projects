{
 "cells": [
  {
   "attachments": {},
   "cell_type": "markdown",
   "metadata": {},
   "source": [
    "# Coding Temple's Data Analytics Program\n",
    "---\n",
    "## Python Basics Assignment 4\n",
    "---"
   ]
  },
  {
   "attachments": {},
   "cell_type": "markdown",
   "metadata": {},
   "source": [
    "### **Task 1: Update Shopping Cart**\n",
    "Using the shopping cart you created yesterday as a blueprint, create a shopping cart using object-oriented programming. This shopping cart should maintain all functionality that you currently have in your blueprint."
   ]
  },
  {
   "cell_type": "code",
   "execution_count": 35,
   "metadata": {},
   "outputs": [
    {
     "name": "stdout",
     "output_type": "stream",
     "text": [
      "These items are in your cart: mushrooms pasta\n"
     ]
    }
   ],
   "source": [
    "# YOUR CODE HERE\n",
    "from IPython.display import clear_output\n",
    "\n",
    "class ShoppingCart:\n",
    "    def __init__(self, cart):\n",
    "        self.cart = []\n",
    "\n",
    "    def show_cart(self):\n",
    "        print(f\"These items are in your cart: {' '.join(self.cart)}\")\n",
    "\n",
    "    def add_item(self):\n",
    "        item = input(\"Please enter the item to add: \")\n",
    "        self.cart.append(item)\n",
    "\n",
    "    def delete_item(self):\n",
    "        item = input(\"Please enter the item to delete: \")\n",
    "        self.cart.remove(item)\n",
    "\n",
    "\n",
    "my_shopping_cart = ShoppingCart([])\n",
    "\n",
    "def run():\n",
    "    while True:\n",
    "            response = input(\"Do you want to 'show' 'add' 'delete' items in your cart? ('quit' to exit)\")\n",
    "            clear_output()\n",
    "\n",
    "            if response.lower() == 'quit':\n",
    "                my_shopping_cart.show_cart()\n",
    "                break\n",
    "            elif response.lower() == 'add':\n",
    "                my_shopping_cart.add_item()\n",
    "\n",
    "            elif response.lower() == 'delete':\n",
    "                my_shopping_cart.delete_item()\n",
    "\n",
    "            elif response.lower() == 'show':\n",
    "                my_shopping_cart.show_cart()\n",
    "\n",
    "run()\n"
   ]
  },
  {
   "attachments": {},
   "cell_type": "markdown",
   "metadata": {},
   "source": [
    "### **Task 2: String Class**\n",
    "Write a class which has the following two methods:\n",
    "* `get_string`: Accepts a string input from the user\n",
    "* `print_string`: Prints the string all in upper-case"
   ]
  },
  {
   "cell_type": "code",
   "execution_count": 8,
   "metadata": {},
   "outputs": [
    {
     "name": "stdout",
     "output_type": "stream",
     "text": [
      "You entered TIMETRAVEL\n"
     ]
    }
   ],
   "source": [
    "# YOUR CODE HERE\n",
    "class Get_And_Print_String:\n",
    "    def __init__(self):\n",
    "        self.string = \" \"\n",
    "    \n",
    "    def get_string(self):\n",
    "        self.string = input(\"Please enter a word.\")\n",
    "\n",
    "    def print_string(self):\n",
    "        print(f\"You entered {self.string.upper()}\")\n",
    "\n",
    "upper_string = Get_And_Print_String()\n",
    "upper_string.get_string()\n",
    "upper_string.print_string()"
   ]
  },
  {
   "attachments": {},
   "cell_type": "markdown",
   "metadata": {},
   "source": [
    "### **Task 3: Activities**\n",
    "Create a class that depicts your favorite activity. Add in attributes that are associated with that activity in you `__init__` call. Also, create three functions that are associated with the activity.\n",
    "\n",
    "**Example:**\n",
    "If I chose football, I may have a FootballPlayer class with attributes such as:\n",
    "* `self.speed`\n",
    "* `self.strength`\n",
    "* `self.position`\n",
    "\n",
    "and methods such as:\n",
    "* `def pass_ball`\n",
    "* `def run`\n",
    "* `def faster_than_x`"
   ]
  },
  {
   "cell_type": "code",
   "execution_count": 23,
   "metadata": {},
   "outputs": [
    {
     "name": "stdout",
     "output_type": "stream",
     "text": [
      "Aaron's voice is louder than 92 decibels - the child is acting out again!\n",
      "Aaron has to do 2.0 chores.\n",
      "It has been too stressful as a dad, so it's time to break open a beer!\n"
     ]
    }
   ],
   "source": [
    "class Parenting:\n",
    "    def __init__ (self, child_name , child_decibels, days_between_groundings, days_between_parental_mental_breakdown):\n",
    "        self.child_name = child_name\n",
    "        self.child_decibels = child_decibels\n",
    "        self.days_between_groundings = days_between_groundings\n",
    "        self.days_between_parental_mental_breakdown = days_between_parental_mental_breakdown\n",
    "\n",
    "    def is_child_acting_out (self):\n",
    "        print(f\"{self.child_name}'s voice is louder than {self.child_decibels} decibels - the child is acting out again!\")\n",
    "\n",
    "    def deciding_grounding (self):\n",
    "        number_of_chores = 10 * (1/self.days_between_groundings)\n",
    "        print(f\"{self.child_name} has to do {number_of_chores} chores.\")\n",
    "\n",
    "    def when_to_drink_beer (self):\n",
    "        if self.days_between_parental_mental_breakdown <= 2:\n",
    "            print(f\"It has been too stressful as a dad, so it's time to break open a beer!\")\n",
    "        else:\n",
    "            print(f\"Hang tight. Drink a soda.\")\n",
    "    \n",
    "\n",
    "briody_parent = Parenting(\"Aaron\", 92, 5, 2)\n",
    "briody_parent.is_child_acting_out()\n",
    "briody_parent.deciding_grounding()\n",
    "briody_parent.when_to_drink_beer()\n"
   ]
  },
  {
   "attachments": {},
   "cell_type": "markdown",
   "metadata": {},
   "source": [
    "### **Task 4: Test Your Class!**\n",
    "Now that you created your class, let's create an instance of your class. In the cell below, instantiate a Class Object, then test each of your class methods on that object."
   ]
  },
  {
   "cell_type": "code",
   "execution_count": 6,
   "metadata": {},
   "outputs": [],
   "source": [
    "# For Task 1: Update Shopping Cart\n",
    "my_shopping_cart = ShoppingCart([])\n",
    "\n",
    "def run():\n",
    "    while True:\n",
    "            response = input(\"Do you want to 'show' 'add' 'delete' items in your cart? ('quit' to exit)\")\n",
    "            clear_output()\n",
    "\n",
    "            if response.lower() == 'quit':\n",
    "                my_shopping_cart.show_cart()\n",
    "                break\n",
    "            elif response.lower() == 'add':\n",
    "                my_shopping_cart.add_item()\n",
    "\n",
    "            elif response.lower() == 'delete':\n",
    "                my_shopping_cart.delete_item()\n",
    "\n",
    "            elif response.lower() == 'show':\n",
    "                my_shopping_cart.show_cart()\n",
    "\n",
    "run()\n",
    "\n",
    "# For Task 2: String Class\n",
    "upper_string = Get_And_Print_String()\n",
    "upper_string.get_string()\n",
    "upper_string.print_string()\n",
    "\n",
    "# For Task 3: Activities\n",
    "briody_parent = Parenting(\"Aaron\", 92, 5, 2)\n",
    "briody_parent.is_child_acting_out()\n",
    "briody_parent.deciding_grounding()\n",
    "briody_parent.when_to_drink_beer()\n",
    "\n",
    "\n"
   ]
  },
  {
   "cell_type": "code",
   "execution_count": null,
   "metadata": {},
   "outputs": [],
   "source": []
  },
  {
   "cell_type": "markdown",
   "metadata": {},
   "source": []
  }
 ],
 "metadata": {
  "kernelspec": {
   "display_name": "Python 3",
   "language": "python",
   "name": "python3"
  },
  "language_info": {
   "codemirror_mode": {
    "name": "ipython",
    "version": 3
   },
   "file_extension": ".py",
   "mimetype": "text/x-python",
   "name": "python",
   "nbconvert_exporter": "python",
   "pygments_lexer": "ipython3",
   "version": "3.11.3"
  },
  "orig_nbformat": 4,
  "vscode": {
   "interpreter": {
    "hash": "26de051ba29f2982a8de78e945f0abaf191376122a1563185a90213a26c5da77"
   }
  }
 },
 "nbformat": 4,
 "nbformat_minor": 2
}
